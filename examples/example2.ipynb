{
 "cells": [
  {
   "cell_type": "markdown",
   "metadata": {},
   "source": [
    "## PythonPP Encapsulation Example"
   ]
  },
  {
   "cell_type": "markdown",
   "metadata": {},
   "source": [
    "#### Import the library."
   ]
  },
  {
   "cell_type": "code",
   "execution_count": 4,
   "metadata": {},
   "outputs": [],
   "source": [
    "# from pythonpp import *\n",
    "%run ../pythonpp/pythonpp.py"
   ]
  },
  {
   "cell_type": "code",
   "execution_count": 5,
   "metadata": {},
   "outputs": [],
   "source": [
    "@PythonPP\n",
    "class Test1:\n",
    "    def namespace(public, private):\n",
    "        @constructor(public, private)\n",
    "        def __init__(testVar):\n",
    "            public.hello = \"hello\"\n",
    "            private.testVar = testVar\n",
    "            print(\"Test 1 constructor:\", public, private)\n",
    "            print(private.__dict__)\n",
    "            \n",
    "        @method(public)\n",
    "        def getTestVar():\n",
    "            return private.testVar\n",
    "\n",
    "@PythonPP\n",
    "class Test2(Test1):\n",
    "    def namespace(public, private):\n",
    "        @constructor(public, private)\n",
    "        def __init__(key, koy):\n",
    "            private.key = key\n",
    "            private.koy = koy\n",
    "            print(\"Test 2 constructor:\", public, private)\n",
    "            Test1.__init__(public)\n",
    "        @method(public)\n",
    "        def test():\n",
    "            pass"
   ]
  },
  {
   "cell_type": "code",
   "execution_count": 6,
   "metadata": {
    "tags": [
     "outputPrepend"
    ]
   },
   "outputs": [
    {
     "output_type": "stream",
     "name": "stdout",
     "text": "<function Test2.namespace.<locals>.__init__ at 0x0000018F7B1493A8>\nTest 2 constructor: <Scope object at 0x0000018F7B163D88> <Scope object at 0x0000018F7B163588>\n<function Test1.namespace.<locals>.__init__ at 0x0000018F7B16C168>\n"
    }
   ],
   "source": [
    "obj = Test2(\"admin\", \"1234\")"
   ]
  },
  {
   "cell_type": "code",
   "execution_count": 37,
   "metadata": {},
   "outputs": [
    {
     "output_type": "execute_result",
     "data": {
      "text/plain": "<function PythonPP.<locals>.__init__(self, *args, **kwargs)>"
     },
     "metadata": {},
     "execution_count": 37
    }
   ],
   "source": [
    "Test1.__init__"
   ]
  },
  {
   "cell_type": "code",
   "execution_count": 7,
   "metadata": {},
   "outputs": [
    {
     "output_type": "stream",
     "name": "stdout",
     "text": "<function Test1.namespace.<locals>.__init__ at 0x0000018F7B120DC8>\n"
    }
   ],
   "source": [
    "Test1.__init__(obj)"
   ]
  },
  {
   "cell_type": "code",
   "execution_count": 16,
   "metadata": {},
   "outputs": [
    {
     "output_type": "stream",
     "name": "stdout",
     "text": "<function <lambda> at 0x0000021B2C9BECA8>\n"
    }
   ],
   "source": [
    "t=Test1(\"hi\")"
   ]
  },
  {
   "cell_type": "code",
   "execution_count": 20,
   "metadata": {},
   "outputs": [
    {
     "output_type": "execute_result",
     "data": {
      "text/plain": "{'test': <function __main__.Test2.namespace.<locals>.test()>}"
     },
     "metadata": {},
     "execution_count": 20
    }
   ],
   "source": [
    "obj.__dict__"
   ]
  },
  {
   "cell_type": "code",
   "execution_count": 17,
   "metadata": {},
   "outputs": [
    {
     "output_type": "execute_result",
     "data": {
      "text/plain": "{'getTestVar': <function __main__.Test1.namespace.<locals>.getTestVar()>}"
     },
     "metadata": {},
     "execution_count": 17
    }
   ],
   "source": [
    "t.__dict__"
   ]
  },
  {
   "cell_type": "code",
   "execution_count": null,
   "metadata": {},
   "outputs": [],
   "source": []
  }
 ],
 "metadata": {
  "language_info": {
   "codemirror_mode": {
    "name": "ipython",
    "version": 3
   },
   "file_extension": ".py",
   "mimetype": "text/x-python",
   "name": "python",
   "nbconvert_exporter": "python",
   "pygments_lexer": "ipython3",
   "version": "3.7.4-final"
  },
  "orig_nbformat": 2,
  "kernelspec": {
   "name": "python37464bit543297ca316a4fc9adf3109fd6b8c1a3",
   "display_name": "Python 3.7.4 64-bit"
  }
 },
 "nbformat": 4,
 "nbformat_minor": 2
}