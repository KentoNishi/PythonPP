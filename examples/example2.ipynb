{
 "cells": [
  {
   "cell_type": "markdown",
   "metadata": {},
   "source": [
    "## PythonPP Encapsulation Example"
   ]
  },
  {
   "cell_type": "markdown",
   "metadata": {},
   "source": [
    "#### Import the library."
   ]
  },
  {
   "cell_type": "code",
   "execution_count": 17,
   "metadata": {},
   "outputs": [],
   "source": [
    "# from pythonpp import *\n",
    "%run ../pythonpp/pythonpp.py"
   ]
  },
  {
   "cell_type": "code",
   "execution_count": 18,
   "metadata": {},
   "outputs": [
    {
     "output_type": "stream",
     "name": "stdout",
     "text": "None\nNone\nNone\nNone\nNone\nNone\n"
    }
   ],
   "source": [
    "@PythonPP\n",
    "class ParentClass:\n",
    "    def namespace(public, private):\n",
    "        @constructor\n",
    "        def ParentClass(param1):\n",
    "            private.static.staticVar = \"Static Variable\"\n",
    "            public.param1 = param1\n",
    "\n",
    "        @method(public)\n",
    "        def publicMethod():\n",
    "            print(\"Public method\")\n",
    "\n",
    "        @method(public.static)\n",
    "        def staticMethod():\n",
    "            print(\"Static method\")\n",
    "\n",
    "\n",
    "@PythonPP\n",
    "class ChildClass(ParentClass):\n",
    "    def namespace(public, private):\n",
    "        public.static.initVar = \"init var\"\n",
    "        @constructor\n",
    "        def ChildClass(param1, param2):\n",
    "            ParentClass.constructor(param1)\n",
    "            public.param2 = param2\n",
    "        @method(public.static)\n",
    "        def getPrivateStaticVar():\n",
    "            return private.static.staticVar\n",
    "\n",
    "        @method(public.static)\n",
    "        def getStaticInitVar():\n",
    "            print(public.param2)\n",
    "            return public.static.initVar\n"
   ]
  },
  {
   "cell_type": "code",
   "execution_count": 19,
   "metadata": {},
   "outputs": [
    {
     "output_type": "stream",
     "name": "stdout",
     "text": "True\nFalse\nFalse\nFalse\nTrue\nFalse\n"
    }
   ],
   "source": [
    "obj = ChildClass(\"world\", \"world\")"
   ]
  },
  {
   "cell_type": "code",
   "execution_count": 10,
   "metadata": {},
   "outputs": [
    {
     "output_type": "stream",
     "name": "stdout",
     "text": "world\n"
    },
    {
     "output_type": "execute_result",
     "data": {
      "text/plain": "'init var'"
     },
     "metadata": {},
     "execution_count": 10
    }
   ],
   "source": [
    "ChildClass.getStaticInitVar()"
   ]
  }
 ],
 "metadata": {
  "language_info": {
   "codemirror_mode": {
    "name": "ipython",
    "version": 3
   },
   "file_extension": ".py",
   "mimetype": "text/x-python",
   "name": "python",
   "nbconvert_exporter": "python",
   "pygments_lexer": "ipython3",
   "version": "3.7.4-final"
  },
  "orig_nbformat": 2,
  "kernelspec": {
   "name": "python37464bit543297ca316a4fc9adf3109fd6b8c1a3",
   "display_name": "Python 3.7.4 64-bit"
  }
 },
 "nbformat": 4,
 "nbformat_minor": 2
}