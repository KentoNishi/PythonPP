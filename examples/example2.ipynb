{
 "cells": [
  {
   "cell_type": "markdown",
   "metadata": {},
   "source": [
    "## PythonPP Encapsulation Example"
   ]
  },
  {
   "cell_type": "markdown",
   "metadata": {},
   "source": [
    "#### Import the library."
   ]
  },
  {
   "cell_type": "code",
   "execution_count": 1,
   "metadata": {},
   "outputs": [],
   "source": [
    "# from pythonpp import *\n",
    "%run ../pythonpp/pythonpp.py"
   ]
  },
  {
   "cell_type": "code",
   "execution_count": 8,
   "metadata": {},
   "outputs": [],
   "source": [
    "@PythonPP\n",
    "class ParentClass:\n",
    "    def namespace(public, private):\n",
    "        @constructor\n",
    "        def __init__(param1):\n",
    "            private.static.staticVar = \"Static Variable\"\n",
    "            public.param1 = param1\n",
    "\n",
    "        @method(public)\n",
    "        def publicMethod():\n",
    "            print(\"Public method\")\n",
    "\n",
    "        @method(public.static)\n",
    "        def staticMethod():\n",
    "            print(\"Static method\")\n",
    "\n",
    "\n",
    "@PythonPP\n",
    "class ChildClass(ParentClass):\n",
    "    def namespace(public, private):\n",
    "        @constructor\n",
    "        def __init__(param1, param2):\n",
    "            ParentClass.__init__(param1)\n",
    "            public.param2 = param2\n",
    "\n",
    "        @method(public)\n",
    "        def getPrivateStaticVar():\n",
    "            return private.static.staticVar"
   ]
  },
  {
   "cell_type": "code",
   "execution_count": 9,
   "metadata": {},
   "outputs": [],
   "source": [
    "instance = ChildClass(\"hello\", \"there\")"
   ]
  },
  {
   "cell_type": "code",
   "execution_count": 12,
   "metadata": {},
   "outputs": [
    {
     "output_type": "execute_result",
     "data": {
      "text/plain": "'Static Variable'"
     },
     "metadata": {},
     "execution_count": 12
    }
   ],
   "source": [
    "instance.getPrivateStaticVar()"
   ]
  },
  {
   "cell_type": "code",
   "execution_count": 10,
   "metadata": {},
   "outputs": [
    {
     "output_type": "execute_result",
     "data": {
      "text/plain": "{'publicMethod': <function __main__.ParentClass.namespace.<locals>.publicMethod()>,\n 'getPrivateStaticVar': <function __main__.ChildClass.namespace.<locals>.getPrivateStaticVar()>,\n 'param1': 'hello',\n 'param2': 'there'}"
     },
     "metadata": {},
     "execution_count": 10
    }
   ],
   "source": [
    "instance.__dict__"
   ]
  },
  {
   "cell_type": "code",
   "execution_count": 11,
   "metadata": {},
   "outputs": [
    {
     "output_type": "execute_result",
     "data": {
      "text/plain": "mappingproxy({'__module__': '__main__',\n              'namespace': <function __main__.ChildClass.namespace(public, private)>,\n              '__doc__': None,\n              '__init__': <function PythonPP.<locals>.__init__(self, *args, **kwargs)>,\n              'staticMethod': <function __main__.ParentClass.namespace.<locals>.staticMethod()>})"
     },
     "metadata": {},
     "execution_count": 11
    }
   ],
   "source": [
    "ChildClass.__dict__"
   ]
  }
 ],
 "metadata": {
  "language_info": {
   "codemirror_mode": {
    "name": "ipython",
    "version": 3
   },
   "file_extension": ".py",
   "mimetype": "text/x-python",
   "name": "python",
   "nbconvert_exporter": "python",
   "pygments_lexer": "ipython3",
   "version": "3.7.4-final"
  },
  "orig_nbformat": 2,
  "kernelspec": {
   "name": "python37464bit543297ca316a4fc9adf3109fd6b8c1a3",
   "display_name": "Python 3.7.4 64-bit"
  }
 },
 "nbformat": 4,
 "nbformat_minor": 2
}