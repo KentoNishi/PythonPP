{
 "cells": [
  {
   "cell_type": "markdown",
   "metadata": {},
   "source": [
    "## PythonPP Encapsulation Example"
   ]
  },
  {
   "cell_type": "markdown",
   "metadata": {},
   "source": [
    "#### Import the library."
   ]
  },
  {
   "cell_type": "code",
   "execution_count": 1,
   "metadata": {},
   "outputs": [],
   "source": [
    "# from pythonpp import *\n",
    "%run ../pythonpp/pythonpp.py"
   ]
  },
  {
   "cell_type": "code",
   "execution_count": 2,
   "metadata": {},
   "outputs": [],
   "source": [
    "@PythonPP\n",
    "class ParentClass:\n",
    "    def namespace(public, private):\n",
    "        @constructor\n",
    "        def ParentClass(param1):\n",
    "            private.static.staticVar = \"Static Variable\"\n",
    "            public.param1 = param1\n",
    "\n",
    "        @method(public)\n",
    "        def publicMethod():\n",
    "            print(\"Public method\")\n",
    "\n",
    "        @method(public.static)\n",
    "        def staticMethod():\n",
    "            print(\"Static method\")\n",
    "\n",
    "\n",
    "@PythonPP\n",
    "class ChildClass(ParentClass):\n",
    "    def namespace(public, private):\n",
    "        public.static.initVar = \"init var\"\n",
    "        @constructor\n",
    "        def ChildClass(param1, param2):\n",
    "            ParentClass.constructor(param1)\n",
    "            public.param2 = param2\n",
    "        @method(public.static)\n",
    "        def getPrivateStaticVar():\n",
    "            return private.static.staticVar\n",
    "\n",
    "        @method(public.static)\n",
    "        def getStaticInitVar():\n",
    "            return public.static.initVar"
   ]
  },
  {
   "cell_type": "code",
   "execution_count": 3,
   "metadata": {},
   "outputs": [],
   "source": [
    "obj = ChildClass(\"world\", \"world\")"
   ]
  },
  {
   "cell_type": "code",
   "metadata": {},
   "source": [
    "obj.__dict__"
   ],
   "execution_count": 4,
   "outputs": [
    {
     "output_type": "execute_result",
     "data": {
      "text/plain": "{'publicMethod': <function __main__.ParentClass.namespace.<locals>.publicMethod()>,\n 'param1': 'world',\n 'param2': 'world'}"
     },
     "metadata": {},
     "execution_count": 4
    }
   ]
  },
  {
   "cell_type": "code",
   "execution_count": 5,
   "metadata": {},
   "outputs": [
    {
     "output_type": "execute_result",
     "data": {
      "text/plain": "mappingproxy({'__module__': '__main__',\n              'namespace': <function __main__.ChildClass.namespace(public, private)>,\n              '__doc__': None,\n              '__init__': <function PythonPP.<locals>.__init__(firstArg, *args, **kwargs)>,\n              'constructor': <function PythonPP.<locals>.staticConstructor(*args, **kwargs)>,\n              'initVar': 'init var',\n              'getPrivateStaticVar': <function __main__.ChildClass.namespace.<locals>.getPrivateStaticVar()>,\n              'getStaticInitVar': <function __main__.ChildClass.namespace.<locals>.getStaticInitVar()>,\n              'staticMethod': <function __main__.ParentClass.namespace.<locals>.staticMethod()>,\n              '__getattribute__': <function PythonPP.<locals>.__init__.<locals>.__getattribute__(self, name)>,\n              '__setattr__': <function PythonPP.<locals>.__init__.<locals>.__setattr__(self, name, value)>})"
     },
     "metadata": {},
     "execution_count": 5
    }
   ],
   "source": [
    "obj.__class__.__dict__"
   ]
  }
 ],
 "metadata": {
  "language_info": {
   "codemirror_mode": {
    "name": "ipython",
    "version": 3
   },
   "file_extension": ".py",
   "mimetype": "text/x-python",
   "name": "python",
   "nbconvert_exporter": "python",
   "pygments_lexer": "ipython3",
   "version": "3.7.4-final"
  },
  "orig_nbformat": 2,
  "kernelspec": {
   "name": "python37464bit543297ca316a4fc9adf3109fd6b8c1a3",
   "display_name": "Python 3.7.4 64-bit"
  }
 },
 "nbformat": 4,
 "nbformat_minor": 2
}