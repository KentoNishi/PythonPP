{
 "cells": [
  {
   "cell_type": "markdown",
   "metadata": {},
   "source": [
    "## PythonPP Encapsulation Example"
   ]
  },
  {
   "cell_type": "markdown",
   "metadata": {},
   "source": [
    "#### Import the library."
   ]
  },
  {
   "cell_type": "code",
   "execution_count": 17,
   "metadata": {},
   "outputs": [],
   "source": [
    "# from pythonpp import *\n",
    "%run ../pythonpp/pythonpp.py"
   ]
  },
  {
   "cell_type": "code",
   "execution_count": 20,
   "metadata": {},
   "outputs": [],
   "source": [
    "@PythonPP\n",
    "class Test1:\n",
    "    def namespace(public, private):\n",
    "        @constructor(public, private)\n",
    "        def __init__(testVar):\n",
    "            public.hello = \"hello\"\n",
    "            private.testVar = testVar\n",
    "            print(\"Test 1 constructor:\", public, private)\n",
    "            print(private.__dict__)\n",
    "            \n",
    "        @method(public)\n",
    "        def getTestVar():\n",
    "            return private.testVar\n",
    "\n",
    "@PythonPP\n",
    "class Test2(Test1):\n",
    "    def namespace(public, private):\n",
    "        @constructor(public, private)\n",
    "        def __init__(key, koy):\n",
    "            private.key = key\n",
    "            private.koy = koy\n",
    "            print(\"Test 2 constructor:\", public, private)\n",
    "            Test1.__init__(public, \"\")\n",
    "        @method(public)\n",
    "        def test():\n",
    "            pass"
   ]
  },
  {
   "cell_type": "code",
   "execution_count": 21,
   "metadata": {
    "tags": [
     "outputPrepend"
    ]
   },
   "outputs": [
    {
     "output_type": "stream",
     "name": "stdout",
     "text": "<Scope object at 0x0000018F7B16AC48> <Scope object at 0x0000018F7B16A688> <function Test2.namespace.<locals>.__init__ at 0x0000018F7B21B048>\nTest 2 constructor: <Scope object at 0x0000018F7B16AC48> <Scope object at 0x0000018F7B16A688>\n<Scope object at 0x0000018F7B16AC48> <Scope object at 0x0000018F7B16A688> <function Test1.namespace.<locals>.__init__ at 0x0000018F7B21B798>\nTest 1 constructor: <Scope object at 0x0000018F7B16AC48> <Scope object at 0x0000018F7B16A688>\n{'key': 'admin', 'koy': '1234', 'testVar': ''}\n"
    }
   ],
   "source": [
    "obj = Test2(\"admin\", \"1234\")"
   ]
  }
 ],
 "metadata": {
  "language_info": {
   "codemirror_mode": {
    "name": "ipython",
    "version": 3
   },
   "file_extension": ".py",
   "mimetype": "text/x-python",
   "name": "python",
   "nbconvert_exporter": "python",
   "pygments_lexer": "ipython3",
   "version": "3.7.4-final"
  },
  "orig_nbformat": 2,
  "kernelspec": {
   "name": "python37464bit543297ca316a4fc9adf3109fd6b8c1a3",
   "display_name": "Python 3.7.4 64-bit"
  }
 },
 "nbformat": 4,
 "nbformat_minor": 2
}