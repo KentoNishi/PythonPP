{
 "cells": [
  {
   "cell_type": "markdown",
   "metadata": {},
   "source": [
    "## Python++ OOP Example"
   ]
  },
  {
   "cell_type": "code",
   "execution_count": 1,
   "metadata": {},
   "outputs": [],
   "source": [
    "# from pythonpp import *\n",
    "%run ../pythonpp/pythonpp.py"
   ]
  },
  {
   "cell_type": "code",
   "execution_count": 2,
   "metadata": {},
   "outputs": [
    {
     "output_type": "stream",
     "name": "stdout",
     "text": "The ParentClass static initializer was called\n"
    }
   ],
   "source": [
    "@PythonPP\n",
    "class ParentClass:\n",
    "    def namespace(public, private):\n",
    "        @staticinit\n",
    "        def StaticInit():\n",
    "            print(\"The ParentClass static initializer was called\")\n",
    "            public.static.publicStatic = \"This variable is public and static\"\n",
    "            private.static.privateStatic = \"Some private and static value\" \n",
    "\n",
    "        @constructor\n",
    "        def Constructor(publicValue, privateValue):\n",
    "            print(\"The ParentClass constructor was called\")\n",
    "            public.publicValue = publicValue\n",
    "            private.privateValue = privateValue\n",
    "        \n",
    "        @method(public)\n",
    "        def publicMethod():\n",
    "            return \"Returned from publicMethod\""
   ]
  },
  {
   "cell_type": "code",
   "execution_count": 3,
   "metadata": {},
   "outputs": [
    {
     "output_type": "stream",
     "name": "stdout",
     "text": "The ChildClass static initializer was called\nThe ParentClass static initializer was called\n"
    }
   ],
   "source": [
    "@PythonPP\n",
    "class ChildClass(ParentClass):\n",
    "    def namespace(public, private):\n",
    "        @staticinit\n",
    "        def StaticInit():\n",
    "            print(\"The ChildClass static initializer was called\")\n",
    "            ParentClass.staticinit()\n",
    "            public.static.publicStatic2 = \"Second static and public variable\"\n",
    "\n",
    "        @constructor\n",
    "        def Constructor(publicValue, privateValue, extraValue):\n",
    "            print(\"The ChildClass constructor was called\")\n",
    "            ParentClass.constructor(publicValue, privateValue)\n",
    "            private.extraValue = extraValue\n",
    "        \n",
    "        @method(public.static)\n",
    "        def getPrivateStaticVariable():\n",
    "            return private.static.privateStatic\n",
    "        \n",
    "        @method(public)\n",
    "        def getPrivateValue():\n",
    "            return private.privateValue\n",
    "\n",
    "        @special\n",
    "        def __str__():\n",
    "            return f'ChildClass object with extraValue = \"{private.extraValue}\"'"
   ]
  },
  {
   "cell_type": "code",
   "execution_count": 4,
   "metadata": {},
   "outputs": [
    {
     "output_type": "stream",
     "name": "stdout",
     "text": "The ChildClass constructor was called\nThe ParentClass constructor was called\n"
    }
   ],
   "source": [
    "myObject = ChildClass(\"public value\", \"private value\", \"extra value\")"
   ]
  },
  {
   "cell_type": "code",
   "execution_count": 5,
   "metadata": {},
   "outputs": [],
   "source": [
    "todo = [\n",
    "    \"myObject\",\n",
    "    \"ChildClass.getPrivateStaticVariable()\",\n",
    "    \"ChildClass.publicStatic\",\n",
    "    \"ChildClass.publicStatic2\",\n",
    "    \"myObject.publicMethod()\",\n",
    "    \"myObject.getPrivateValue()\",\n",
    "    \"myObject.publicValue\"\n",
    "]"
   ]
  },
  {
   "cell_type": "code",
   "execution_count": 6,
   "metadata": {},
   "outputs": [
    {
     "output_type": "stream",
     "name": "stdout",
     "text": "myObject: ChildClass object with extraValue = \"extra value\"\n\nChildClass.getPrivateStaticVariable(): Some private and static value\n\nChildClass.publicStatic: This variable is public and static\n\nChildClass.publicStatic2: Second static and public variable\n\nmyObject.publicMethod(): Returned from publicMethod\n\nmyObject.getPrivateValue(): private value\n\nmyObject.publicValue: public value\n\n"
    }
   ],
   "source": [
    "for task in todo:\n",
    "    print(f\"{task}: {eval(task)}\\n\")"
   ]
  }
 ],
 "metadata": {
  "language_info": {
   "codemirror_mode": {
    "name": "ipython",
    "version": 3
   },
   "file_extension": ".py",
   "mimetype": "text/x-python",
   "name": "python",
   "nbconvert_exporter": "python",
   "pygments_lexer": "ipython3",
   "version": "3.7.4-final"
  },
  "orig_nbformat": 2,
  "kernelspec": {
   "name": "python37464bit543297ca316a4fc9adf3109fd6b8c1a3",
   "display_name": "Python 3.7.4 64-bit"
  }
 },
 "nbformat": 4,
 "nbformat_minor": 2
}