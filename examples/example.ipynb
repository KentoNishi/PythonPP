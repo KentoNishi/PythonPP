{
 "cells": [
  {
   "cell_type": "markdown",
   "metadata": {},
   "source": [
    "## Python++ OOP Example"
   ]
  },
  {
   "cell_type": "code",
   "execution_count": 65,
   "metadata": {},
   "outputs": [],
   "source": [
    "# from pythonpp import *\n",
    "%run ../pythonpp/pythonpp.py"
   ]
  },
  {
   "cell_type": "code",
   "execution_count": 66,
   "metadata": {},
   "outputs": [
    {
     "output_type": "stream",
     "name": "stdout",
     "text": "ParentClass static initializer\n"
    }
   ],
   "source": [
    "@PythonPP\n",
    "class ParentClass:\n",
    "    def namespace(public, private):\n",
    "        private.static.privateStatic = \"This variable is private and static\"\n",
    "        public.static.publicStatic = \"This variable is public and static\"\n",
    "\n",
    "        @initializer\n",
    "        def ParentClass():\n",
    "            print(\"ParentClass static initializer\")\n",
    "\n",
    "        @constructor\n",
    "        def ParentClass(publicValue, privateValue):\n",
    "            print(\"The ParentClass constructor was called\")\n",
    "            public.publicValue = publicValue\n",
    "            private.privateValue = privateValue\n",
    "        \n",
    "        @method(public)\n",
    "        def publicMethod():\n",
    "            return \"Returned from publicMethod\""
   ]
  },
  {
   "cell_type": "code",
   "execution_count": 68,
   "metadata": {},
   "outputs": [
    {
     "output_type": "stream",
     "name": "stdout",
     "text": "ParentClass static initializer\nChildClass static initializer\n"
    }
   ],
   "source": [
    "@PythonPP\n",
    "class ChildClass(ParentClass):\n",
    "    def namespace(public, private):\n",
    "\n",
    "        @initializer\n",
    "        def ChildClass():\n",
    "            ParentClass.initializer()\n",
    "            print(\"ChildClass static initializer\")\n",
    "\n",
    "        @constructor\n",
    "        def ChildClass(publicValue, privateValue, extraValue):\n",
    "            print(\"The ChildClass constructor was called\")\n",
    "            ParentClass.constructor(publicValue, privateValue)\n",
    "            private.extraValue = extraValue\n",
    "        \n",
    "        @method(public.static)\n",
    "        def getPrivateStaticVariable():\n",
    "            return private.static.privateStatic\n",
    "        \n",
    "        @method(public)\n",
    "        def getPrivateValue():\n",
    "            return private.privateValue\n",
    "\n",
    "        @special\n",
    "        def __str__():\n",
    "            return f'ChildClass object with extraValue = \"{private.extraValue}\"'"
   ]
  },
  {
   "cell_type": "code",
   "execution_count": 63,
   "metadata": {},
   "outputs": [
    {
     "output_type": "execute_result",
     "data": {
      "text/plain": "'This variable is private and static'"
     },
     "metadata": {},
     "execution_count": 63
    }
   ],
   "source": [
    "ChildClass.getPrivateStaticVariable()"
   ]
  },
  {
   "cell_type": "code",
   "execution_count": 114,
   "metadata": {},
   "outputs": [
    {
     "output_type": "stream",
     "name": "stdout",
     "text": "None\nThe ChildClass constructor was called\nThe ParentClass constructor was called\n"
    }
   ],
   "source": [
    "myObject = ChildClass(\"public value\", \"private value\", \"extra value\")"
   ]
  },
  {
   "cell_type": "code",
   "execution_count": 115,
   "metadata": {},
   "outputs": [],
   "source": [
    "todo = [\n",
    "    \"myObject\",\n",
    "    \"ChildClass.getPrivateStaticVariable()\",\n",
    "    \"myObject.getPrivateValue()\",\n",
    "    \"ChildClass.publicStatic\",\n",
    "    \"myObject.publicMethod()\",\n",
    "]"
   ]
  },
  {
   "cell_type": "code",
   "execution_count": 116,
   "metadata": {},
   "outputs": [
    {
     "output_type": "stream",
     "name": "stdout",
     "text": "myObject: ChildClass object with extraValue = \"extra value\"\n\nChildClass.getPrivateStaticVariable(): This variable is private and static\n\nmyObject.getPrivateValue(): private value\n\nChildClass.publicStatic: This variable is public and static\n\nmyObject.publicMethod(): Returned from publicMethod\n\n"
    }
   ],
   "source": [
    "for task in todo:\n",
    "    print(f\"{task}: {eval(task)}\\n\")"
   ]
  },
  {
   "cell_type": "code",
   "execution_count": null,
   "metadata": {},
   "outputs": [],
   "source": []
  }
 ],
 "metadata": {
  "language_info": {
   "codemirror_mode": {
    "name": "ipython",
    "version": 3
   },
   "file_extension": ".py",
   "mimetype": "text/x-python",
   "name": "python",
   "nbconvert_exporter": "python",
   "pygments_lexer": "ipython3",
   "version": "3.7.4-final"
  },
  "orig_nbformat": 2,
  "kernelspec": {
   "name": "python37464bit543297ca316a4fc9adf3109fd6b8c1a3",
   "display_name": "Python 3.7.4 64-bit"
  }
 },
 "nbformat": 4,
 "nbformat_minor": 2
}