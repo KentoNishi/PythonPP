{
 "cells": [
  {
   "cell_type": "markdown",
   "metadata": {},
   "source": [
    "## PythonPP Encapsulation Example"
   ]
  },
  {
   "cell_type": "markdown",
   "metadata": {},
   "source": [
    "#### Import the library."
   ]
  },
  {
   "cell_type": "code",
   "execution_count": 1,
   "metadata": {},
   "outputs": [],
   "source": [
    "# from pythonpp import *\n",
    "%run ../pythonpp/pythonpp.py"
   ]
  },
  {
   "cell_type": "code",
   "execution_count": 2,
   "metadata": {},
   "outputs": [],
   "source": [
    "# Class extends pythonpp's ClsPP class.\n",
    "@PythonPP\n",
    "class Test:\n",
    "    # Place all methods and field declarations here.\n",
    "    def namespace(public, private):\n",
    "\n",
    "        private.static.serverIP = \"0.0.0.0\"\n",
    "        private.static.serverKey = \"password\"\n",
    "        public.static.someStaticValue = \"Statically accessible externally\"\n",
    "\n",
    "        @constructor\n",
    "        def __init__(username, password):\n",
    "            private.username = username\n",
    "            private.password = password\n",
    "        \n",
    "        @method(public)\n",
    "        def getUsername():\n",
    "            return private.username\n",
    "\n",
    "        @method(public.static)\n",
    "        def getServerIP():\n",
    "            return private.static.serverIP"
   ]
  },
  {
   "cell_type": "code",
   "execution_count": 3,
   "metadata": {
    "tags": [
     "outputPrepend"
    ]
   },
   "outputs": [],
   "source": [
    "obj = Test(\"admin\", \"1234\")"
   ]
  },
  {
   "cell_type": "code",
   "execution_count": 4,
   "metadata": {},
   "outputs": [
    {
     "output_type": "execute_result",
     "data": {
      "text/plain": "{'getUsername': <function __main__.Test.namespace.<locals>.getUsername()>}"
     },
     "metadata": {},
     "execution_count": 4
    }
   ],
   "source": [
    "obj.__dict__"
   ]
  },
  {
   "cell_type": "code",
   "execution_count": 5,
   "metadata": {},
   "outputs": [
    {
     "output_type": "execute_result",
     "data": {
      "text/plain": "mappingproxy({'__module__': '__main__',\n              'namespace': <function __main__.Test.namespace(public, private)>,\n              '__dict__': <attribute '__dict__' of 'Test' objects>,\n              '__weakref__': <attribute '__weakref__' of 'Test' objects>,\n              '__doc__': None,\n              '__init__': <function PythonPP.<locals>.newInit(self, *args, **kwargs)>,\n              'someStaticValue': 'Statically accessible externally',\n              'getServerIP': <function __main__.Test.namespace.<locals>.getServerIP()>,\n              '__getattribute__': <function PythonPP.<locals>.getAttr(self, name)>,\n              '__setattr__': <function PythonPP.<locals>.setAttr(self, name, value)>})"
     },
     "metadata": {},
     "execution_count": 5
    }
   ],
   "source": [
    "obj.__class__.__dict__"
   ]
  }
 ],
 "metadata": {
  "language_info": {
   "codemirror_mode": {
    "name": "ipython",
    "version": 3
   },
   "file_extension": ".py",
   "mimetype": "text/x-python",
   "name": "python",
   "nbconvert_exporter": "python",
   "pygments_lexer": "ipython3",
   "version": "3.7.4-final"
  },
  "orig_nbformat": 2,
  "kernelspec": {
   "name": "python37464bit543297ca316a4fc9adf3109fd6b8c1a3",
   "display_name": "Python 3.7.4 64-bit"
  }
 },
 "nbformat": 4,
 "nbformat_minor": 2
}