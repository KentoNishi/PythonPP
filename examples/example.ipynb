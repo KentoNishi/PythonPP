{
 "cells": [
  {
   "cell_type": "markdown",
   "metadata": {},
   "source": [
    "## PythonPP Encapsulation Example"
   ]
  },
  {
   "cell_type": "code",
   "execution_count": 1,
   "metadata": {},
   "outputs": [],
   "source": [
    "# from pythonpp import *\n",
    "%run ../pythonpp/pythonpp.py"
   ]
  },
  {
   "cell_type": "code",
   "execution_count": 2,
   "metadata": {},
   "outputs": [],
   "source": [
    "@PythonPP\n",
    "class ParentClass:\n",
    "    def namespace(public, private):\n",
    "        private.static.presetPrivateStatic = \"Private and also static!\"\n",
    "        @constructor\n",
    "        def ParentClass(param1):\n",
    "            public.param1 = param1\n",
    "\n",
    "        @method(public.static)\n",
    "        def getPrivateStaticVar():\n",
    "            return private.static.presetPrivateStatic\n",
    "\n",
    "\n",
    "@PythonPP\n",
    "class ChildClass(ParentClass):\n",
    "    def namespace(public, private):\n",
    "        public.static.presetStatic = \"Exists upon class declaration\"\n",
    "\n",
    "        @constructor\n",
    "        def ChildClass(param1, param2):\n",
    "            ParentClass.constructor(param1)\n",
    "            public.param2 = param2\n",
    "            private.param3 = \"This value is private!\"\n",
    "\n",
    "        @method(public)\n",
    "        def getPrivateValue():\n",
    "            return private.param3"
   ]
  },
  {
   "cell_type": "code",
   "execution_count": 3,
   "metadata": {},
   "outputs": [],
   "source": [
    "obj = ChildClass(\"Param 1\", \"Param 2\")"
   ]
  },
  {
   "cell_type": "code",
   "execution_count": 4,
   "metadata": {},
   "outputs": [],
   "source": [
    "def pretty(data):\n",
    "    return [i for i in dir(obj) if not i.startswith(\"__\")]"
   ]
  },
  {
   "cell_type": "code",
   "execution_count": 5,
   "metadata": {},
   "outputs": [
    {
     "output_type": "stream",
     "name": "stdout",
     "text": "Created object: <__main__.ChildClass object at 0x000002B048A4F848>\n\nPublic static variables/methods: ['getPrivateStaticVar', 'getPrivateValue', 'namespace', 'param1', 'param2', 'presetStatic']\n\nPublic instance variables/methods: ['getPrivateStaticVar', 'getPrivateValue', 'namespace', 'param1', 'param2', 'presetStatic']\n\nChildClass.getPrivateStaticVar(): Private and also static!\n\nobj.getPrivateValue(): This value is private!\n"
    }
   ],
   "source": [
    "print(\n",
    "    f\"Created object: {obj}\",\n",
    "    f\"Public static variables/methods: {pretty(ChildClass)}\",\n",
    "    f\"Public instance variables/methods: {pretty(obj)}\",\n",
    "    f\"ChildClass.getPrivateStaticVar(): {ChildClass.getPrivateStaticVar()}\",\n",
    "    f\"obj.getPrivateValue(): {obj.getPrivateValue()}\",\n",
    "    sep=\"\\n\\n\"\n",
    ")"
   ]
  }
 ],
 "metadata": {
  "language_info": {
   "codemirror_mode": {
    "name": "ipython",
    "version": 3
   },
   "file_extension": ".py",
   "mimetype": "text/x-python",
   "name": "python",
   "nbconvert_exporter": "python",
   "pygments_lexer": "ipython3",
   "version": "3.7.4-final"
  },
  "orig_nbformat": 2,
  "kernelspec": {
   "name": "python37464bit543297ca316a4fc9adf3109fd6b8c1a3",
   "display_name": "Python 3.7.4 64-bit"
  }
 },
 "nbformat": 4,
 "nbformat_minor": 2
}