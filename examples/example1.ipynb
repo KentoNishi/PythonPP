{
 "cells": [
  {
   "cell_type": "code",
   "execution_count": 1,
   "metadata": {},
   "outputs": [],
   "source": [
    "%run ../pythonpp/pythonpp.py"
   ]
  },
  {
   "cell_type": "code",
   "execution_count": 2,
   "metadata": {},
   "outputs": [],
   "source": [
    "@PythonPP\n",
    "class Test:\n",
    "    # Place all methods and field declarations here.\n",
    "    def namespace(public, private):\n",
    "        public.static.staticVar = \"Static Variable\"\n",
    "        @constructor\n",
    "        def __init__(key):\n",
    "            private.key = key\n",
    "        # public variable\n",
    "        public.hello = \"hello\"\n",
    "        # private variable\n",
    "        private.world = \"world\"\n",
    "\n",
    "        # public method\n",
    "        @method(public)\n",
    "        def publicMethod():\n",
    "            print(\"Called publicMethod\")\n",
    "        \n",
    "        # private method\n",
    "        @method(private)\n",
    "        def privateMethod():\n",
    "            print(\"Called privateMethod\")\n",
    "\n",
    "        # public method to call the private method.\n",
    "        @method(public)\n",
    "        def callPrivateMethod():\n",
    "            print(\"Calling privateMethod()\")\n",
    "            # Call the private method\n",
    "            private.privateMethod()\n",
    "\n",
    "        @method(public.static)\n",
    "        def getKey_Fail():\n",
    "            return private.key\n",
    "\n",
    "        @method(public)\n",
    "        def getKey():\n",
    "            return private.key\n",
    "\n",
    "\n",
    "@PythonPP\n",
    "class Test1:\n",
    "    def namespace(public, private):\n",
    "        @constructor\n",
    "        def __init__(key):\n",
    "            private.key = key\n",
    "            \n",
    "        @method(public)\n",
    "        def revealArgs():\n",
    "            print(private.key)\n",
    "\n",
    "@PythonPP\n",
    "class Test2:\n",
    "    def namespace(public, private):\n",
    "        @constructor\n",
    "        def __init__(key, koy):\n",
    "            private.key = key\n",
    "            private.koy = koy\n",
    "            \n",
    "        @method(public)\n",
    "        def revealArgs():\n",
    "            print(private.key)\n",
    "            print(private.koy)\n",
    "\n",
    "def test1stuff():\n",
    "    for i in range(10):\n",
    "        a = Test(\"ssh\")\n",
    "        print(a.getKey())\n",
    "\n",
    "def test2stuff():\n",
    "    for i in range(10):\n",
    "        a = Test2(\"hello\", \"world\")\n",
    "        a.revealArgs()"
   ]
  },
  {
   "cell_type": "code",
   "execution_count": 3,
   "metadata": {},
   "outputs": [],
   "source": [
    "a = Test1(\"ssh\")"
   ]
  },
  {
   "cell_type": "code",
   "execution_count": 4,
   "metadata": {},
   "outputs": [
    {
     "output_type": "stream",
     "name": "stdout",
     "text": "ssh\n"
    }
   ],
   "source": [
    "a.revealArgs()"
   ]
  },
  {
   "cell_type": "code",
   "execution_count": 5,
   "metadata": {},
   "outputs": [],
   "source": [
    "b = Test2(\"key\", \"koy\")"
   ]
  },
  {
   "cell_type": "code",
   "execution_count": 6,
   "metadata": {},
   "outputs": [
    {
     "output_type": "stream",
     "name": "stdout",
     "text": "key\nkoy\n"
    }
   ],
   "source": [
    "b.revealArgs()"
   ]
  },
  {
   "cell_type": "code",
   "execution_count": 7,
   "metadata": {},
   "outputs": [],
   "source": [
    "from threading import Thread\n",
    "import time"
   ]
  },
  {
   "cell_type": "code",
   "execution_count": 8,
   "metadata": {},
   "outputs": [
    {
     "output_type": "stream",
     "name": "stdout",
     "text": "ssh\nhello\nworld\nssh\nhello\nworld\nssh\nhello\nworld\nssh\nhello\nworld\nssh\nhello\nworld\nssh\nhello\nworld\nssh\nhello\nworld\nssh\nhello\nworld\nssh\nhello\nworld\nssh\nhello\nworld\n"
    }
   ],
   "source": [
    "def test1stuff():\n",
    "    for i in range(10):\n",
    "        a = Test(\"ssh\")\n",
    "        print(a.getKey())\n",
    "        time.sleep(0.100)\n",
    "\n",
    "def test2stuff():\n",
    "    for i in range(10):\n",
    "        a = Test2(\"hello\", \"world\")\n",
    "        a.revealArgs()\n",
    "        time.sleep(0.100)\n",
    "\n",
    "\n",
    "t1 = Thread(target=test1stuff)\n",
    "t2 = Thread(target=test2stuff)\n",
    "\n",
    "t1.start()\n",
    "t2.start()\n",
    "\n",
    "t1.join()\n",
    "t2.join()"
   ]
  }
 ],
 "metadata": {
  "language_info": {
   "codemirror_mode": {
    "name": "ipython",
    "version": 3
   },
   "file_extension": ".py",
   "mimetype": "text/x-python",
   "name": "python",
   "nbconvert_exporter": "python",
   "pygments_lexer": "ipython3",
   "version": "3.7.4-final"
  },
  "orig_nbformat": 2,
  "kernelspec": {
   "name": "python37464bit543297ca316a4fc9adf3109fd6b8c1a3",
   "display_name": "Python 3.7.4 64-bit"
  }
 },
 "nbformat": 4,
 "nbformat_minor": 2
}